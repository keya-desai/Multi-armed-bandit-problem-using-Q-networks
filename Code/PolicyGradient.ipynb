{
  "nbformat": 4,
  "nbformat_minor": 0,
  "metadata": {
    "colab": {
      "name": "PolicyGradient.ipynb",
      "provenance": [],
      "collapsed_sections": []
    },
    "kernelspec": {
      "display_name": "Python 3",
      "name": "python3"
    }
  },
  "cells": [
    {
      "cell_type": "code",
      "metadata": {
        "id": "3XwJ0a0LaF9y"
      },
      "source": [
        "import numpy as np\n",
        "import random \n",
        "from collections import defaultdict\n",
        "import matplotlib.pyplot as plt\n",
        "import tensorflow as tf"
      ],
      "execution_count": null,
      "outputs": []
    },
    {
      "cell_type": "code",
      "metadata": {
        "colab": {
          "base_uri": "https://localhost:8080/"
        },
        "id": "1xYQ64GSgGdA",
        "outputId": "01589e63-8748-489a-981b-8236b96aa4f8"
      },
      "source": [
        "import tensorflow.compat.v1 as tf\n",
        "tf.disable_v2_behavior()"
      ],
      "execution_count": null,
      "outputs": [
        {
          "output_type": "stream",
          "text": [
            "WARNING:tensorflow:From /usr/local/lib/python3.7/dist-packages/tensorflow/python/compat/v2_compat.py:96: disable_resource_variables (from tensorflow.python.ops.variable_scope) is deprecated and will be removed in a future version.\n",
            "Instructions for updating:\n",
            "non-resource variables are not supported in the long term\n"
          ],
          "name": "stdout"
        }
      ]
    },
    {
      "cell_type": "markdown",
      "metadata": {
        "id": "SYm7sipPfn_e"
      },
      "source": [
        "Defining bandits:"
      ]
    },
    {
      "cell_type": "code",
      "metadata": {
        "id": "AAqU5ekUbD2C"
      },
      "source": [
        "def get_reward(idx, mu_sigma_dict):\n",
        "\tmu, sigma = mu_sigma_dict[idx]\n",
        "\treturn np.random.normal(mu, sigma)\n",
        "\n",
        "def generate_data(num_buttons):\n",
        "\tmu_sigma_dict = defaultdict(tuple)\n",
        "\tfor i in range(num_buttons):\n",
        "\t\tmean = random.uniform(-1, 1)\n",
        "\t\tsigma = random.uniform(0, 3)\n",
        "\t\tmu_sigma_dict[i] = (mean, sigma)\n",
        "\tprint(\"Distribution (unknown) : {} \\n\".format(mu_sigma_dict))\n",
        "\treturn mu_sigma_dict\n",
        "\n",
        "def get_optimum_reward(mu_sigma_dict, trials):\n",
        "\tmean_list = [value[0] for value in mu_sigma_dict.values()]\n",
        "\tmax_mean_idx = np.argmax(mean_list)\n",
        "\toptimum_reward = np.sum([get_reward(max_mean_idx, mu_sigma_dict) for _ in range(trials)])\n",
        "\n",
        "\treturn optimum_reward"
      ],
      "execution_count": null,
      "outputs": []
    },
    {
      "cell_type": "code",
      "metadata": {
        "colab": {
          "base_uri": "https://localhost:8080/"
        },
        "id": "GkZhXnyEdpr_",
        "outputId": "1a879fc1-b04a-463e-fb47-887125b08d89"
      },
      "source": [
        "num_bandits = 5\n",
        "mu_sigma_dict = generate_data(num_bandits)"
      ],
      "execution_count": null,
      "outputs": [
        {
          "output_type": "stream",
          "text": [
            "Distribution (unknown) : defaultdict(<class 'tuple'>, {0: (-0.016494376858104953, 2.1137223116422823), 1: (0.33068608420433643, 1.0871434938953244), 2: (-0.9425080908098407, 2.5326806178044827), 3: (-0.5881594453891408, 2.1193319162394655), 4: (-0.5590335015733277, 2.392652887897602)}) \n",
            "\n"
          ],
          "name": "stdout"
        }
      ]
    },
    {
      "cell_type": "markdown",
      "metadata": {
        "id": "7pVvP8dbfrEc"
      },
      "source": [
        "Defining agent:"
      ]
    },
    {
      "cell_type": "markdown",
      "metadata": {
        "id": "RYXg8SAtgRui"
      },
      "source": [
        "Training:"
      ]
    },
    {
      "cell_type": "code",
      "metadata": {
        "id": "C6eKV_xuguBO"
      },
      "source": [
        "# Launch the tensorflow graph\n",
        "\n",
        "def policy_gradient(mu_sigma_dict, total_episodes = 1000, epsilon = 0.3):\n",
        "  tf.reset_default_graph()\n",
        "\n",
        "  num_bandits = len(mu_sigma_dict.keys())\n",
        "\n",
        "  # Initial weights and action\n",
        "\n",
        "  weights = tf.Variable(tf.ones([num_bandits]))\n",
        "  # print(\"Initial weights\", weights)\n",
        "\n",
        "  chosen_action = tf.argmax(weights,0)\n",
        "  # print(\"Action:\", chosen_action)\n",
        "\n",
        "  # reward_holder = tf.placeholder(shape=[1],dtype=tf.float32)\n",
        "  advantage_holder = tf.placeholder(shape=[1],dtype=tf.float32)\n",
        "  action_holder = tf.placeholder(shape=[1],dtype=tf.int32)\n",
        "  # lr = tf.placeholder(shape=[1],dtype=tf.int32)\n",
        "  lr = 0.001\n",
        "  responsible_weight = tf.slice(weights,action_holder,[1])\n",
        "\n",
        "  # Loss function and update\n",
        "  loss = -(tf.log(responsible_weight)*advantage_holder)\n",
        "  optimizer = tf.train.GradientDescentOptimizer(learning_rate=lr)\n",
        "  update = optimizer.minimize(loss)\n",
        " \n",
        "  total_reward = np.zeros(num_bandits) # Scoreboard for bandits set to 0.\n",
        "  alpha = 0.001 \n",
        "\n",
        "  init = tf.initialize_all_variables()\n",
        "\n",
        "  with tf.Session() as sess:\n",
        "      sess.run(init)\n",
        "      i = 0\n",
        "      while i < total_episodes:\n",
        "          \n",
        "          # Choose action using e-greedy\n",
        "          if np.random.rand(1) < epsilon:\n",
        "              action = np.random.randint(num_bandits)\n",
        "          else:\n",
        "              action = sess.run(chosen_action)\n",
        "          \n",
        "          reward = get_reward(action, mu_sigma_dict)\n",
        "          total_reward[action] += reward\n",
        "          avg_reward = np.mean(total_reward)\n",
        "          advantage = reward - avg_reward\n",
        "\n",
        "          #  Update the network.\n",
        "          new_update, resp_weight, updated_weights = sess.run([update, responsible_weight, weights], feed_dict={advantage_holder:[advantage],action_holder:[action]})\n",
        "          \n",
        "          #Update our running tally of scores.\n",
        "          # total_reward[action] += reward\n",
        "          # if i % 50 == 0:\n",
        "          #     print(\"Running reward for the \" + str(num_bandits) + \" bandits: \" + str(total_reward))\n",
        "          i+=1\n",
        "  \n",
        "  reward_sum = sum(total_reward)\n",
        "  return reward_sum, updated_weights"
      ],
      "execution_count": null,
      "outputs": []
    },
    {
      "cell_type": "code",
      "metadata": {
        "colab": {
          "base_uri": "https://localhost:8080/"
        },
        "id": "3jUgTeWLm4-N",
        "outputId": "31d2702c-a389-44f6-e97f-e9a4554d3a3d"
      },
      "source": [
        "reward_sum, ww = policy_gradient(mu_sigma_dict, total_episodes = 1000)\n",
        "print(\"The agent thinks bandit \" + str(np.argmax(ww)) + \" is the most promising....\")\n",
        "print(\"Final weights\", ww)\n",
        "print(\"Bandit Distribution: {} \\n\".format(mu_sigma_dict))"
      ],
      "execution_count": null,
      "outputs": [
        {
          "output_type": "stream",
          "text": [
            "WARNING:tensorflow:From /usr/local/lib/python3.7/dist-packages/tensorflow/python/util/tf_should_use.py:247: initialize_all_variables (from tensorflow.python.ops.variables) is deprecated and will be removed after 2017-03-02.\n",
            "Instructions for updating:\n",
            "Use `tf.global_variables_initializer` instead.\n",
            "The agent thinks bandit 0 is the most promising....\n",
            "Final weights [3.5729775 1.3286947 1.250613  1.1536287 1.3234217]\n",
            "Bandit Distribution: defaultdict(<class 'tuple'>, {0: (-0.016494376858104953, 2.1137223116422823), 1: (0.33068608420433643, 1.0871434938953244), 2: (-0.9425080908098407, 2.5326806178044827), 3: (-0.5881594453891408, 2.1193319162394655), 4: (-0.5590335015733277, 2.392652887897602)}) \n",
            "\n"
          ],
          "name": "stdout"
        }
      ]
    },
    {
      "cell_type": "code",
      "metadata": {
        "id": "dfPvDxMZnrOo"
      },
      "source": [
        "def compute_regret(mu_sigma_dict, num_list, strategy = 'naive'):\n",
        "    \n",
        "    regret_avg = []\n",
        "    \n",
        "    for trials in num_list:\n",
        "        regret = []\n",
        "        for _ in range(5):\n",
        "            if strategy == 'naive':\n",
        "                reward, _, _ = naive_strategy(mu_sigma_dict, trials)\n",
        "            elif strategy == 'probability':\n",
        "                reward = probability_strategy(mu_sigma_dict, total_trials = trials)\n",
        "            elif strategy == 'epsilon-greedy':\n",
        "                reward = epsilon_greedy(mu_sigma_dict, trials)\n",
        "            elif strategy == 'epsilon-greedy-time-variant':\n",
        "                reward = epsilon_greedy(mu_sigma_dict, trials, epsilon_time_variant = True)\n",
        "            elif strategy == 'ucb':\n",
        "                reward = ucb(mu_sigma_dict, trials)\n",
        "            elif strategy == 'ucb-unknown-variance':\n",
        "                reward = ucb_unknown_variance(mu_sigma_dict, trials)\n",
        "            elif strategy == 'policy_gradient':\n",
        "                reward, weights = policy_gradient(mu_sigma_dict, trials)\n",
        "\n",
        "            optimum_reward = get_optimum_reward(mu_sigma_dict, trials)\n",
        "            regret.append(optimum_reward - reward)\n",
        "        regret_avg.append(np.mean(regret))\n",
        "#         print(\"Optimum reward = {}, reward = {}\".format(optimum_reward, reward))\n",
        "#     print(\"Regret = \", regret)\n",
        "\n",
        "    return regret_avg "
      ],
      "execution_count": null,
      "outputs": []
    },
    {
      "cell_type": "code",
      "metadata": {
        "colab": {
          "base_uri": "https://localhost:8080/",
          "height": 349
        },
        "id": "em8B31njy3C0",
        "outputId": "c62dfce1-034e-46e6-d142-0d6ff3fa8ad1"
      },
      "source": [
        "# Plot for regret\n",
        "\n",
        "num_buttons = 8\n",
        "mu_sigma_dict = generate_data(num_buttons)\n",
        "num_list = np.arange(1000, 10001, 1000)\n",
        "regret = compute_regret(mu_sigma_dict, num_list, strategy = 'policy_gradient')\n",
        "plt.plot(num_list, regret, '-')\n",
        "plt.xlabel(\"Number of trials\")\n",
        "plt.ylabel(\"Regret\")\n",
        "plt.title(\"Regret vs Number of trials for {} buttons\".format(num_buttons))\n",
        "plt.show()"
      ],
      "execution_count": null,
      "outputs": [
        {
          "output_type": "stream",
          "text": [
            "Distribution (unknown) : defaultdict(<class 'tuple'>, {0: (0.46271102404439723, 0.30533091519041333), 1: (0.1560823276062555, 1.1565196447054964), 2: (0.5455128791030153, 0.23562042971590869), 3: (0.1795561441026241, 1.4441019041421101), 4: (0.5692514973792413, 0.28145933865747796), 5: (-0.5147113682343734, 2.9632972286263968), 6: (-0.9745394494148414, 1.0140961819102627), 7: (-0.7562220453946051, 0.09921656941295343)}) \n",
            "\n"
          ],
          "name": "stdout"
        },
        {
          "output_type": "display_data",
          "data": {
            "image/png": "[encoded data removed]",
            "text/plain": [
              "<Figure size 432x288 with 1 Axes>"
            ]
          },
          "metadata": {
            "tags": [],
            "needs_background": "light"
          }
        }
      ]
    },
    {
      "cell_type": "code",
      "metadata": {
        "id": "90gQowfazErq"
      },
      "source": [
        ""
      ],
      "execution_count": null,
      "outputs": []
    }
  ]
}